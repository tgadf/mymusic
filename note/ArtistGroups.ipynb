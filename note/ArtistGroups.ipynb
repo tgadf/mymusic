{
 "cells": [
  {
   "cell_type": "code",
   "execution_count": 26,
   "metadata": {},
   "outputs": [
    {
     "name": "stdout",
     "output_type": "stream",
     "text": [
      "The autoreload extension is already loaded. To reload it, use:\n",
      "  %reload_ext autoreload\n"
     ]
    },
    {
     "data": {
      "text/html": [
       "<style>.container { width:100% !important; }</style>"
      ],
      "text/plain": [
       "<IPython.core.display.HTML object>"
      ]
     },
     "metadata": {},
     "output_type": "display_data"
    },
    {
     "data": {
      "text/html": [
       "<style>div.output_area{max-height:10000px;overflow:scroll;}</style>"
      ],
      "text/plain": [
       "<IPython.core.display.HTML object>"
      ]
     },
     "metadata": {},
     "output_type": "display_data"
    }
   ],
   "source": [
    "###########################################################################\n",
    "## Basic stuff\n",
    "###########################################################################\n",
    "%load_ext autoreload\n",
    "%autoreload\n",
    "from IPython.core.display import display, HTML\n",
    "display(HTML(\"<style>.container { width:100% !important; }</style>\"))\n",
    "display(HTML(\"\"\"<style>div.output_area{max-height:10000px;overflow:scroll;}</style>\"\"\"))\n",
    "\n",
    "###########################################################################\n",
    "## Utils\n",
    "###########################################################################\n",
    "from timeUtils import timestat\n",
    "from listUtils import getFlatList\n",
    "from masterDBGate import masterDBGate\n",
    "from pandas import isna, notna, Series, DataFrame, concat\n",
    "from uuid import uuid4\n",
    "\n",
    "###########################################################################\n",
    "## DB\n",
    "###########################################################################\n",
    "from masterManualEntries import masterManualEntries\n",
    "from masterArtistNameDB import masterArtistNameDB\n",
    "from masterArtistMerger import masterArtistMerger\n",
    "from masterMultiArtistDB import masterMultiArtistDB\n",
    "from masterArtistNameCorrection import masterArtistNameCorrection\n",
    "from convertByteString import convertByteString\n",
    "from mainDB import mainDB"
   ]
  },
  {
   "cell_type": "code",
   "execution_count": 2,
   "metadata": {},
   "outputs": [
    {
     "name": "stdout",
     "output_type": "stream",
     "text": [
      "========================= masterManualEntries(install=False) =========================\n",
      "========================= masterArtistMerger =========================\n",
      "Current Time is Mon Nov 01, 2021 08:10 for Getting Manual Mergers Data From Main Pickle File\n",
      "Process [Getting Manual Mergers Data From Main Pickle File] Took 0.0 Seconds\n",
      "masterArtistMerger Summary:\n",
      "  DB ID Entries: 7195\n",
      "  DB Entries:    2033\n",
      "  Artists:       684\n",
      "========================= masterMultiArtistDB() =========================\n",
      "Current Time is Mon Nov 01, 2021 08:10 for Getting Manual Renames Data From Main Pickle File\n",
      "Process [Getting Manual Renames Data From Main Pickle File] Took 0.0 Seconds\n",
      "masterArtistNameDB Summary:\n",
      "  Entries: 3634\n",
      "========================= masterArtistNameDB(\"main\") =========================\n",
      "Current Time is Mon Nov 01, 2021 08:10 for Getting Manual Renames Data From Main Pickle File\n",
      "Process [Getting Manual Renames Data From Main Pickle File] Took 0.1 Seconds\n",
      "  No duplicate key/values in manual renames\n",
      "  No recursive key/values in manual renames\n",
      "masterArtistNameDB(\"main\") Summary:\n",
      "  Entries: 45021\n",
      "  Artists: 34171\n",
      "========================= masterArtistNameDB(\"multi\") =========================\n",
      "Current Time is Mon Nov 01, 2021 08:10 for Getting Manual Renames Data From Main Pickle File\n",
      "Process [Getting Manual Renames Data From Main Pickle File] Took 0.0 Seconds\n",
      "  No duplicate key/values in manual renames\n",
      "  No recursive key/values in manual renames\n",
      "masterArtistNameDB(\"multi\") Summary:\n",
      "  Entries: 705\n",
      "  Artists: 644\n",
      "Current Time is Mon Nov 01, 2021 08:10 for Getting Manual Renames Data From Main Pickle File\n",
      "Process [Getting Manual Renames Data From Main Pickle File] Took 0.1 Seconds\n"
     ]
    }
   ],
   "source": [
    "mme        = masterManualEntries()\n",
    "cbs        = convertByteString()\n",
    "mam        = masterArtistMerger()\n",
    "mma        = masterMultiArtistDB()\n",
    "manc       = masterArtistNameCorrection()\n",
    "manDB      = masterArtistNameDB(\"main\")\n",
    "multimanDB = masterArtistNameDB(\"multi\")\n",
    "\n",
    "manDBData  = manDB.getData()\n",
    "manInvData = {fixName: [] for fixName in manDBData.unique()}\n",
    "for otherName,fixName in manDBData.iteritems():\n",
    "    manInvData[fixName].append(otherName)"
   ]
  },
  {
   "cell_type": "code",
   "execution_count": 3,
   "metadata": {},
   "outputs": [
    {
     "name": "stdout",
     "output_type": "stream",
     "text": [
      "Current Time is Mon Nov 01, 2021 08:10 for Getting Manual Entries Data From Main Pickle File\n",
      "Process [Getting Manual Entries Data From Main Pickle File] Took 1.2 Seconds\n"
     ]
    }
   ],
   "source": [
    "df = mme.getDataFrame()\n",
    "df = DataFrame({col: colData.apply(lambda x: str(x) if notna(x) else None) for col,colData in df.iteritems()})"
   ]
  },
  {
   "cell_type": "code",
   "execution_count": 4,
   "metadata": {},
   "outputs": [
    {
     "name": "stdout",
     "output_type": "stream",
     "text": [
      "Current Time is Mon Nov 01, 2021 08:10 for Getting ArtistID -> Clean Name Map\n",
      "Process [Getting ArtistID -> Clean Name Map] Took 41.3 Seconds\n"
     ]
    }
   ],
   "source": [
    "ts = timestat(\"Getting ArtistID -> Clean Name Map\")\n",
    "mDiscs = masterDBGate().getDiscs()\n",
    "artistIDToCleanName = {db: disc.getArtistIDToPreMergeNameData().apply(lambda x: manc.realName(x)[0]).apply(manc.clean).apply(cbs.convert) for db,disc in mDiscs.items()}\n",
    "ts.stop()"
   ]
  },
  {
   "cell_type": "code",
   "execution_count": 5,
   "metadata": {},
   "outputs": [
    {
     "name": "stdout",
     "output_type": "stream",
     "text": [
      "Current Time is Mon Nov 01, 2021 08:10 for Getting MergerID -> Name Map\n",
      "Current Time is Mon Nov 01, 2021 08:10 for Getting Manual Mergers Data From Main Pickle File\n",
      "Process [Getting Manual Mergers Data From Main Pickle File] Took 0.1 Seconds\n",
      "Process [Getting MergerID -> Name Map] Took 0.1 Seconds\n"
     ]
    }
   ],
   "source": [
    "ts = timestat(\"Getting MergerID -> Name Map\")\n",
    "mergerIDToName = {db: {} for db in mDiscs.keys()}\n",
    "for artistName,artistData in mam.getData().iteritems():\n",
    "    for db,dbData in artistData.items():\n",
    "        mergerIDToName[db][dbData[\"ID\"]] = artistName\n",
    "ts.stop()"
   ]
  },
  {
   "cell_type": "code",
   "execution_count": 6,
   "metadata": {},
   "outputs": [
    {
     "name": "stdout",
     "output_type": "stream",
     "text": [
      "Current Time is Mon Nov 01, 2021 08:10 for Joining ID To Name For 371148 Entries And 12 DBs\n",
      "Process [Joining ID To Name For 371148 Entries And 12 DBs] Took 18.1 Seconds\n"
     ]
    }
   ],
   "source": [
    "def getCleanArtistName(dbID, db):\n",
    "    if isinstance(dbID,str):\n",
    "        mergerName = mergerIDToName[db].get(dbID)\n",
    "        if mergerName is not None:\n",
    "            return (mergerName,dbID,True)\n",
    "        \n",
    "        cleanName = artistIDToCleanName[db].get(dbID)\n",
    "        if cleanName is not None:\n",
    "            return (cleanName,dbID,False)\n",
    "        \n",
    "        if not dbID.isdigit():\n",
    "            return (\"NotDigit\",dbID,False)\n",
    "        else:\n",
    "            return (\"NotInDB\",dbID,False)\n",
    "    elif isna(dbID):\n",
    "        return None\n",
    "    else:\n",
    "        raise ValueError(\"Unsure how to get name for ID [{0}]/[{1}]\".format(db,dbID))\n",
    "\n",
    "ts = timestat(\"Joining ID To Name For {0} Entries And {1} DBs\".format(df.shape[0],df.shape[1]))\n",
    "dfNameData = DataFrame({db: dbDFData.apply(getCleanArtistName, db=db) for db,dbDFData in df.iteritems() if db in mDiscs})\n",
    "colnames   = [\"ArtistName\"] + list(dfNameData.columns)\n",
    "dfNameData = dfNameData.join(df[\"ArtistName\"])[colnames]\n",
    "ts.stop()"
   ]
  },
  {
   "cell_type": "markdown",
   "metadata": {},
   "source": [
    "### Fix Merger IDs"
   ]
  },
  {
   "cell_type": "code",
   "execution_count": null,
   "metadata": {},
   "outputs": [],
   "source": [
    "def fixMergerIDs(df, mam):\n",
    "    dbMaxLen   = {db: df[db].apply(lambda x: len(x) if x is not None else 0).max() for db in artistIDToCleanName}\n",
    "    mergedRows = concat([dbData[dbData.apply(lambda x: len(x) if x is not None else 0) == dbMaxLen[db]] for db,dbData in df.iteritems() if db in artistIDToCleanName]).index.drop_duplicates()\n",
    "\n",
    "\n",
    "    idxs = []\n",
    "    for idx,row in df.loc[mergedRows].iterrows():\n",
    "        mergeData = mam.getArtistDataByName(row[\"ArtistName\"])\n",
    "        if mergeData is None:\n",
    "            print(row[\"ArtistName\"])\n",
    "            idxs.append(idx)\n",
    "            continue\n",
    "        print(row[\"ArtistName\"])\n",
    "        for db,dbMergeData in mergeData.items():\n",
    "            mergeID   = dbMergeData[\"ID\"]\n",
    "            currentID = row[db]\n",
    "            print(\"\\t{0: <16}{1}  -->  {2}\".format(db,currentID,mergeID))\n",
    "            df.loc[idx,db] = mergeID"
   ]
  },
  {
   "cell_type": "code",
   "execution_count": null,
   "metadata": {},
   "outputs": [],
   "source": [
    "#mme.saveData(manualEntries=df, local=False)"
   ]
  },
  {
   "cell_type": "code",
   "execution_count": 7,
   "metadata": {},
   "outputs": [
    {
     "name": "stdout",
     "output_type": "stream",
     "text": [
      "Current Time is Mon Nov 01, 2021 08:11 for Find Merged Artist Data\n",
      "Process [Find Merged Artist Data] Took 2.5 Seconds\n"
     ]
    }
   ],
   "source": [
    "def isMerger(row):\n",
    "    return sum([mam.getArtistDataByMergerID(dbID) is not None for dbID in row.values]) > 0\n",
    "ts = timestat(\"Find Merged Artist Data\")\n",
    "mergedArtists = df.apply(isMerger, axis=1)\n",
    "mergedIDXs    = df[mergedArtists].index\n",
    "ts.stop()"
   ]
  },
  {
   "cell_type": "code",
   "execution_count": null,
   "metadata": {},
   "outputs": [],
   "source": [
    "dfNameData[dfNameData[\"ArtistName\"] == \"Alice Cooper\"]"
   ]
  },
  {
   "cell_type": "code",
   "execution_count": 9,
   "metadata": {},
   "outputs": [],
   "source": [
    "class artistGroup:\n",
    "    def __init__(self, key, debug=False):\n",
    "        self.key   = key\n",
    "        self.debug = debug\n",
    "        \n",
    "        ############################################################################\n",
    "        # General And Diagnostic\n",
    "        ############################################################################\n",
    "        self.groupType  = None\n",
    "        self.terminal   = True # Becomes False If adding an artistGroup To groups()\n",
    "        self.mmeID      = None\n",
    "        \n",
    "        \n",
    "        ############################################################################\n",
    "        # Database Matches\n",
    "        ############################################################################\n",
    "        self.dbIDs = {}\n",
    "        \n",
    "        \n",
    "        ############################################################################\n",
    "        # Artist Group Names\n",
    "        ############################################################################\n",
    "        \n",
    "        ### Will likely be an ALL CAPS version of the assigned name\n",
    "        self.searchName = None\n",
    "        \n",
    "        ### My Choice of Group Name (very arbitrary. must be in stylized or latin names)\n",
    "        self.assignedName = None\n",
    "        \n",
    "        ### Stylized Names (any weird way group's name is written)\n",
    "        self.stylizedNames = []\n",
    "        \n",
    "        ### Latin Names (Ascii if possible, something readable in English)\n",
    "        self.latinNames = []\n",
    "        \n",
    "        ### Renames (Mapping between name and one of names in stylized or latin names)\n",
    "        self.dbRenames  = {}\n",
    "        self.genRenames = {}\n",
    "        \n",
    "        ### A collection of other ArtistGroup items\n",
    "        self.groups = {}\n",
    "        \n",
    "        \n",
    "    \n",
    "    ################################################################################################################################\n",
    "    # General\n",
    "    ################################################################################################################################\n",
    "    def show(self):\n",
    "        print(\"{0: <20}: {1}\".format(\"Key\", self.key))\n",
    "        print(\"{0: <20}: {1}\".format(\"Assigned Name\", self.assignedName))\n",
    "        print(\"{0: <20}: {1}\".format(\"Search Name\", self.searchName))\n",
    "        print(\"{0: <20}: {1}\".format(\"DB Matches\", self.dbIDs))\n",
    "        print(\"{0: <20}: {1}\".format(\"DB Renames\", self.dbRenames))\n",
    "        print(\"{0: <20}: {1}\".format(\"General Renames\", self.genRenames))\n",
    "        \n",
    "        \n",
    "    ################################################################################################################################\n",
    "    # Getters and Setters\n",
    "    ################################################################################################################################\n",
    "    def getKey(self):\n",
    "        return self.key\n",
    "    \n",
    "    def setDBIDs(self, dbIDs):\n",
    "        self.dbIDs = dbIDs\n",
    "    \n",
    "    def setAssignedName(self, assignedName):\n",
    "        self.assignedName = assignedName\n",
    "        self.searchName   = assignedName.upper()\n",
    "        \n",
    "    def setDBRenames(self, dbRenames):\n",
    "        self.dbRenames = dbRenames\n",
    "        \n",
    "    def setGenRenames(self, genRenames):\n",
    "        self.genRenames = genRenames\n",
    "        \n",
    "    def addGroup(self, ag):\n",
    "        if isinstance(ag, artistGroup):\n",
    "            self.groups[ag.getKey] = ag"
   ]
  },
  {
   "cell_type": "code",
   "execution_count": 105,
   "metadata": {},
   "outputs": [],
   "source": [
    "def createArtistGroupData(row, idx, manDB, mergedArtists):\n",
    "    artistName = row[\"ArtistName\"]\n",
    "    \n",
    "    artistDBData = {idx: idxData for idx,idxData in row.iteritems() if isinstance(idxData,tuple)}\n",
    "    dbNames  = {db: dbData[0] for db,dbData in artistDBData.items() if dbData[0] not in [\"NotInDB\", \"NotDigit\"]}    \n",
    "    dbIDs    = {db: dbData[1] for db,dbData in artistDBData.items()}\n",
    "    isMerged = {db: dbData[2] for db,dbData in artistDBData.items() if dbData[2] is True}\n",
    "    isMerged = isMerged if len(isMerged) > 0 else None\n",
    "    if len(dbNames) == 0:\n",
    "        print(idx,'\\t',artistName)\n",
    "    \n",
    "    ag = artistGroup(key=key)\n",
    "    ag.mmeID = idx\n",
    "    ag.terminal = not isMerged\n",
    "    ag.setAssignedName(artistName)\n",
    "\n",
    "    unMerged = mergedArtists.isin([artistName]).sum() == 0\n",
    "    if unMerged:\n",
    "        dbRenames  = {db: {dbName: manDB.renamed(dbName)} for db,dbName in dbNames.items()}\n",
    "        dbRenames  = {db: dbRename for db,dbRename in dbRenames.items() if list(dbRename.keys()) != list(dbRename.values())}\n",
    "        genRenames = {rename: artistName for rename in manInvData.get(artistName, {}) if {rename: artistName} not in dbRenames.values()}\n",
    "    else:\n",
    "        dbRenames  = {}\n",
    "        genRenames = {}\n",
    "    ag.setDBRenames(dbRenames)\n",
    "    ag.setGenRenames(genRenames)\n",
    "    \n",
    "    ag.setDBIDs(dbIDs)\n",
    "    \n",
    "    return ag"
   ]
  },
  {
   "cell_type": "code",
   "execution_count": 107,
   "metadata": {},
   "outputs": [
    {
     "name": "stdout",
     "output_type": "stream",
     "text": [
      "Current Time is Mon Nov 01, 2021 09:52 for Creating Artist Groups For 371148 'Artists'\n",
      "10000/371148 : Process [Creating Artist Groups For 371148 'Artists'] Has Run For 3.7 Seconds.  ETA is 133.6 Seconds\n",
      "aaaaaaaaXXX0008239XXX01 \t Alice Cooper\n",
      "aaaaaaaaXXX0013980XXX05 \t Anima\n",
      "50000/371148 : Process [Creating Artist Groups For 371148 'Artists'] Has Run For 18.5 Seconds.  ETA is 118.8 Seconds\n",
      "100000/371148 : Process [Creating Artist Groups For 371148 'Artists'] Has Run For 37.5 Seconds.  ETA is 101.7 Seconds\n",
      "150000/371148 : Process [Creating Artist Groups For 371148 'Artists'] Has Run For 56.5 Seconds.  ETA is 83.3 Seconds\n",
      "200000/371148 : Process [Creating Artist Groups For 371148 'Artists'] Has Run For 1.3 Minutes.  ETA is 1.1 Minutes\n",
      "250000/371148 : Process [Creating Artist Groups For 371148 'Artists'] Has Run For 1.6 Minutes.  ETA is 0.8 Minutes\n",
      "300000/371148 : Process [Creating Artist Groups For 371148 'Artists'] Has Run For 1.9 Minutes.  ETA is 0.5 Minutes\n",
      "350000/371148 : Process [Creating Artist Groups For 371148 'Artists'] Has Run For 2.2 Minutes.  ETA is 0.1 Minutes\n",
      "Process [Creating Artist Groups For 371148 'Artists'] Took 2.3 Minutes\n"
     ]
    }
   ],
   "source": [
    "indivAGS  = {}\n",
    "mergedAGS = {}\n",
    "N   = dfNameData.shape[0]\n",
    "ts  = timestat(\"Creating Artist Groups For {0} \\'Artists\\'\".format(N))\n",
    "mergedArtists = df.loc[mergedIDXs][\"ArtistName\"]\n",
    "\n",
    "for i,(idx,row) in enumerate(dfNameData.iterrows()):\n",
    "    if (i+1) % 50000 == 0 or (i+1) == 10000:\n",
    "        ts.update(n=i+1,N=N)\n",
    "    \n",
    "    key  = str(uuid4())\n",
    "    data = createArtistGroupData(row, idx, manDB, mergedArtists)\n",
    "    if idx in mergedIDXs:\n",
    "        mergedAGS[key] = data\n",
    "    else:\n",
    "        indivAGS[key] = data\n",
    "         \n",
    "print(\"{0: <30}{1: >6}\".format(\"All Artists\", dfNameData.shape[0]))\n",
    "print(\"{0: <30}{1: >6}\".format(\"Individual Artists\", len(indivAGS)))\n",
    "print(\"{0: <30}{1: >6}\".format(\"Merged Artists\", len(mergedAGS)))\n",
    "\n",
    "ts.stop()"
   ]
  },
  {
   "cell_type": "code",
   "execution_count": 108,
   "metadata": {},
   "outputs": [
    {
     "name": "stdout",
     "output_type": "stream",
     "text": [
      "All Artists                   371148\n",
      "Individual Artists            370478\n",
      "Merged Artists                   670\n"
     ]
    }
   ],
   "source": [
    "print(\"{0: <30}{1: >6}\".format(\"All Artists\", dfNameData.shape[0]))\n",
    "print(\"{0: <30}{1: >6}\".format(\"Individual Artists\", len(indivAGS)))\n",
    "print(\"{0: <30}{1: >6}\".format(\"Merged Artists\", len(mergedAGS)))"
   ]
  },
  {
   "cell_type": "code",
   "execution_count": 113,
   "metadata": {},
   "outputs": [
    {
     "name": "stdout",
     "output_type": "stream",
     "text": [
      "Current Time is Mon Nov 01, 2021 09:59 for Split Renames By Known DB Renames\n",
      "Perm Renames                   45021\n",
      "Known DB Renames               26976\n",
      "Remaining Renames              18045\n",
      "Perm Renames                   18045\n",
      "Known DB Renames                   0\n",
      "Remaining Renames              18045\n",
      "Process [Split Renames By Known DB Renames] Took 0.7 Seconds\n"
     ]
    },
    {
     "name": "stderr",
     "output_type": "stream",
     "text": [
      "/Users/tgadfort/opt/anaconda3/envs/py37/lib/python3.7/site-packages/ipykernel_launcher.py:8: DeprecationWarning: The default dtype for empty Series will be 'object' instead of 'float64' in a future version. Specify a dtype explicitly to silence this warning.\n",
      "  \n"
     ]
    }
   ],
   "source": [
    "ts = timestat(\"Split Renames By Known DB Renames\")\n",
    "\n",
    "manDBDataRemaining   = manDBData\n",
    "ags = {\"Individual\": indivAGS, \"Merged\": mergedAGS}\n",
    "for agType,agData in ags.items():\n",
    "    dbRenameData = [item for item in getFlatList([ag.dbRenames.values() for key,ag in agData.items()]) if len(item) > 0]\n",
    "    dbRenameData = {k: v for item in dbRenameData for k,v in item.items()}\n",
    "    manDBDataTemp      = DataFrame(manDBDataRemaining, columns=[\"PermReplace\"]).join(Series(dbRenameData, name=\"dbRename\"))\n",
    "    manDBDataRemaining = manDBDataTemp[manDBDataTemp[\"dbRename\"].isna()][\"PermReplace\"]\n",
    "    manDBDataDBRename  = manDBDataTemp[manDBDataTemp[\"dbRename\"].notna()][\"PermReplace\"]\n",
    "\n",
    "    print(\"{0: <30}{1: >6}\".format(\"Perm Renames\", manDBDataTemp.shape[0]))\n",
    "    print(\"{0: <30}{1: >6}\".format(\"Known DB Renames\", manDBDataDBRename.shape[0]))\n",
    "    print(\"{0: <30}{1: >6}\".format(\"Remaining Renames\", manDBDataRemaining.shape[0]))\n",
    "ts.stop()\n",
    "\n"
   ]
  },
  {
   "cell_type": "code",
   "execution_count": 110,
   "metadata": {},
   "outputs": [
    {
     "name": "stdout",
     "output_type": "stream",
     "text": [
      "Current Time is Mon Nov 01, 2021 09:55 for Split Renames By Known General Renames\n",
      "(Perm-DB) Renames              18045\n",
      "Known Gen Renames               8794\n",
      "Remaining Renames               9251\n",
      "Process [Split Renames By Known General Renames] Took 0.1 Seconds\n"
     ]
    }
   ],
   "source": [
    "ts = timestat(\"Split Renames By Known General Renames\")\n",
    "genRenameData = [ag.genRenames for key,ag in indivAGS.items() if len(ag.genRenames) > 0]\n",
    "genRenameData = {k: v for item in genRenameData for k,v in item.items()}\n",
    "manDBDataTemp      = DataFrame(manDBDataRemaining, columns=[\"PermReplace\"]).join(Series(genRenameData, name=\"genRename\"))\n",
    "manDBDataRemaining = manDBDataTemp[manDBDataTemp[\"genRename\"].isna()][\"PermReplace\"]\n",
    "manDBDataGenRename = manDBDataTemp[manDBDataTemp[\"genRename\"].notna()][\"PermReplace\"]\n",
    "\n",
    "print(\"{0: <30}{1: >6}\".format(\"(Perm-DB) Renames\", manDBDataTemp.shape[0]))\n",
    "print(\"{0: <30}{1: >6}\".format(\"Known Gen Renames\", manDBDataGenRename.shape[0]))\n",
    "print(\"{0: <30}{1: >6}\".format(\"Remaining Renames\", manDBDataRemaining.shape[0]))\n",
    "ts.stop()"
   ]
  },
  {
   "cell_type": "code",
   "execution_count": 102,
   "metadata": {},
   "outputs": [
    {
     "name": "stdout",
     "output_type": "stream",
     "text": [
      "Current Time is Mon Nov 01, 2021 09:34 for Split Renames By Merged Renames\n",
      "Process [Split Renames By Merged Renames] Took 0.0 Seconds\n",
      "(Perm-DB-Merge) Renames         9251\n",
      "Known Merge Renames             2681\n",
      "Not Merge Renames               6570\n"
     ]
    }
   ],
   "source": [
    "ts = timestat(\"Split Renames By Merged Renames\")\n",
    "manDBDataTemp        = manDBDataRemaining\n",
    "manDBDataMergeRename = manDBDataTemp[manDBDataTemp.isin(df.loc[mergedIDXs][\"ArtistName\"])]\n",
    "manDBDataRemaining   = manDBDataTemp[~manDBDataTemp.isin(df.loc[mergedIDXs][\"ArtistName\"])]\n",
    "ts.stop()\n",
    "\n",
    "print(\"{0: <30}{1: >6}\".format(\"(Perm-DB-Merge) Renames\", manDBDataTemp.shape[0]))\n",
    "print(\"{0: <30}{1: >6}\".format(\"Known Merge Renames\", manDBDataMergeRename.shape[0]))\n",
    "print(\"{0: <30}{1: >6}\".format(\"Not Merge Renames\", manDBDataRemaining.shape[0]))"
   ]
  },
  {
   "cell_type": "code",
   "execution_count": 95,
   "metadata": {},
   "outputs": [
    {
     "data": {
      "text/plain": [
       "Dave Matthews & His Orchestra      Dave Matthews\n",
       "Dave Matthews And His Orchestra    Dave Matthews\n",
       "Dave Matthews and His Orchestra    Dave Matthews\n",
       "Dave Matthews' Big Band            Dave Matthews\n",
       "Dave Matthews Band                 Dave Matthews\n",
       "Name: PermReplace, dtype: object"
      ]
     },
     "execution_count": 95,
     "metadata": {},
     "output_type": "execute_result"
    }
   ],
   "source": [
    "manDBDataRemaining[manDBDataRemaining.isin([\"Dave Matthews\"])]"
   ]
  },
  {
   "cell_type": "code",
   "execution_count": 104,
   "metadata": {},
   "outputs": [
    {
     "data": {
      "text/plain": [
       "ABBA (Björn & Benny, Agnetha & Frida)                        ABBA\n",
       "ABBA - Agnetha, Björn, Benny, Anna-Frid                      ABBA\n",
       "ABBA (Björn, Benny, Agnetha & Frida)                         ABBA\n",
       "Björn Benny & Agnetha Frida                                  ABBA\n",
       "Aaron Lewis Of Staind                                 Aaron Lewis\n",
       "                                                    ...          \n",
       "Ziggy Marley And The Melody Makers                   Ziggy Marley\n",
       "Ziggy Marley and The Melody Makers                   Ziggy Marley\n",
       "Zoot Money's Big Roll Band                             Zoot Money\n",
       "death’s dynamic shroud                     death's dynamic shroud\n",
       "death's dynamic shroud.wmv                 death's dynamic shroud\n",
       "Name: PermReplace, Length: 2681, dtype: object"
      ]
     },
     "execution_count": 104,
     "metadata": {},
     "output_type": "execute_result"
    }
   ],
   "source": [
    "manDBDataMergeRename"
   ]
  },
  {
   "cell_type": "code",
   "execution_count": null,
   "metadata": {},
   "outputs": [],
   "source": []
  }
 ],
 "metadata": {
  "kernelspec": {
   "display_name": "Python 3",
   "language": "python",
   "name": "python3"
  },
  "language_info": {
   "codemirror_mode": {
    "name": "ipython",
    "version": 3
   },
   "file_extension": ".py",
   "mimetype": "text/x-python",
   "name": "python",
   "nbconvert_exporter": "python",
   "pygments_lexer": "ipython3",
   "version": "3.7.7"
  },
  "toc": {
   "base_numbering": 1,
   "nav_menu": {},
   "number_sections": true,
   "sideBar": true,
   "skip_h1_title": false,
   "title_cell": "Table of Contents",
   "title_sidebar": "Contents",
   "toc_cell": false,
   "toc_position": {},
   "toc_section_display": true,
   "toc_window_display": false
  }
 },
 "nbformat": 4,
 "nbformat_minor": 4
}
