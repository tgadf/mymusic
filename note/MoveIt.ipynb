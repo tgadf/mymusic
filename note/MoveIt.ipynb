{
 "cells": [
  {
   "cell_type": "code",
   "execution_count": 1,
   "metadata": {},
   "outputs": [
    {
     "data": {
      "text/html": [
       "<style>.container { width:100% !important; }</style>"
      ],
      "text/plain": [
       "<IPython.core.display.HTML object>"
      ]
     },
     "metadata": {},
     "output_type": "display_data"
    },
    {
     "data": {
      "text/html": [
       "<style>div.output_area{max-height:10000px;overflow:scroll;}</style>"
      ],
      "text/plain": [
       "<IPython.core.display.HTML object>"
      ]
     },
     "metadata": {},
     "output_type": "display_data"
    }
   ],
   "source": [
    "## Basic stuff\n",
    "%load_ext autoreload\n",
    "%autoreload\n",
    "from IPython.core.display import display, HTML\n",
    "display(HTML(\"<style>.container { width:100% !important; }</style>\"))\n",
    "display(HTML(\"\"\"<style>div.output_area{max-height:10000px;overflow:scroll;}</style>\"\"\"))\n",
    "\n",
    "\n",
    "from searchUtils import findDirs\n",
    "from fsUtils import setDir, isDir, moveDir\n",
    "from fileUtils import getDirBasics\n",
    "from os import getcwd\n",
    "from musicBase import myMusicBase"
   ]
  },
  {
   "cell_type": "code",
   "execution_count": 2,
   "metadata": {},
   "outputs": [
    {
     "name": "stdout",
     "output_type": "stream",
     "text": [
      "My Music Base: ['/Volumes/Piggy/Music/Matched']\n",
      "Music Dir: /Volumes/Piggy/Music/Matched\n"
     ]
    }
   ],
   "source": [
    "mmb      = myMusicBase()\n",
    "musicDir = mmb.musicDirs[0]\n",
    "print(\"Music Dir: {0}\".format(musicDir))"
   ]
  },
  {
   "cell_type": "code",
   "execution_count": 3,
   "metadata": {},
   "outputs": [
    {
     "data": {
      "text/plain": [
       "['My Chemical Romance', 'Survivor']"
      ]
     },
     "execution_count": 3,
     "metadata": {},
     "output_type": "execute_result"
    }
   ],
   "source": [
    "dirsToMove = [x[2:] for x in findDirs(\"./\")]\n",
    "dirsToMove = [x for x in dirsToMove if x not in [\"Done\", \"Matched\", \"Match\"]]\n",
    "dirsToMove"
   ]
  },
  {
   "cell_type": "code",
   "execution_count": 4,
   "metadata": {},
   "outputs": [
    {
     "name": "stdout",
     "output_type": "stream",
     "text": [
      "Artist directory /Volumes/Piggy/Music/Matched/M/My Chemical Romance already exists\n",
      "Artist directory /Volumes/Piggy/Music/Matched/S/Survivor already exists\n"
     ]
    }
   ],
   "source": [
    "for dirToMove in dirsToMove:\n",
    "    pd = mmb.getPrimeDirectory(dirToMove)\n",
    "    moveToDir = setDir(musicDir, pd)\n",
    "    if not isDir(moveToDir):\n",
    "        raise ValueError(\"Cannot move because {0} doesn't exist\".format(moveToDir))\n",
    "    artistDir = setDir(moveToDir, dirToMove)\n",
    "    if isDir(artistDir):\n",
    "        print(\"Artist directory {0} already exists\".format(artistDir))\n",
    "        continue\n",
    "        dirs = [x for x in findDirs(srcDir)]\n",
    "        for dirval in dirs:\n",
    "            albumName = getDirBasics(dirval)[-1]\n",
    "            dstDir = setDir(artistDir, albumName)\n",
    "            if isDir(dstDir):\n",
    "                print(\"Not moving...\")\n",
    "                continue\n",
    "            srcDir = dirval\n",
    "            print(srcDir,'\\t->\\t',dstDir)\n",
    "            moveDir(srcDir, dstDir)\n",
    "    else:\n",
    "        srcDir = setDir(getcwd(), dirToMove)\n",
    "        dstDir = artistDir\n",
    "        print(srcDir,'\\t->\\t',dstDir)\n",
    "        moveDir(srcDir, dstDir)"
   ]
  },
  {
   "cell_type": "code",
   "execution_count": null,
   "metadata": {},
   "outputs": [
    {
     "name": "stdout",
     "output_type": "stream",
     "text": [
      "Srcdir: /Volumes/Seagate/Torrents/Move/My Chemical Romance\n",
      "Dstdir: /Volumes/Piggy/Music/Matched/M/My Chemical Romance\n",
      "/Volumes/Seagate/Torrents/Move/My Chemical Romance/Greatest Hits \t->\t /Volumes/Piggy/Music/Matched/M/My Chemical Romance/Greatest Hits\n",
      "Srcdir: /Volumes/Seagate/Torrents/Move/Survivor\n",
      "Dstdir: /Volumes/Piggy/Music/Matched/S/Survivor\n",
      "/Volumes/Seagate/Torrents/Move/Survivor/The Best Of Survivor \t->\t /Volumes/Piggy/Music/Matched/S/Survivor/The Best Of Survivor\n"
     ]
    }
   ],
   "source": [
    "for dirToMove in dirsToMove:\n",
    "    pd = mmb.getPrimeDirectory(dirToMove)\n",
    "    moveToDir = setDir(musicDir, pd)\n",
    "    if not isDir(moveToDir):\n",
    "        raise ValueError(\"Cannot move because {0} doesn't exist\".format(moveToDir))\n",
    "    artistDir = setDir(moveToDir, dirToMove)\n",
    "    srcDir = setDir(getcwd(), dirToMove)\n",
    "    dstDir = artistDir\n",
    "    if isDir(artistDir):\n",
    "        print(\"Srcdir: {0}\".format(srcDir))\n",
    "        print(\"Dstdir: {0}\".format(dstDir))\n",
    "        dirs = [x for x in findDirs(srcDir)]\n",
    "        for dirval in dirs:\n",
    "            albumName = getDirBasics(dirval)[-1]\n",
    "            dstDir = setDir(artistDir, albumName)\n",
    "            if isDir(dstDir):\n",
    "                print(\"Not moving...\")\n",
    "                continue\n",
    "            srcDir = dirval\n",
    "            print(srcDir,'\\t->\\t',dstDir)\n",
    "            moveDir(srcDir, dstDir)"
   ]
  },
  {
   "cell_type": "code",
   "execution_count": null,
   "metadata": {},
   "outputs": [],
   "source": []
  }
 ],
 "metadata": {
  "kernelspec": {
   "display_name": "Python 3",
   "language": "python",
   "name": "python3"
  },
  "language_info": {
   "codemirror_mode": {
    "name": "ipython",
    "version": 3
   },
   "file_extension": ".py",
   "mimetype": "text/x-python",
   "name": "python",
   "nbconvert_exporter": "python",
   "pygments_lexer": "ipython3",
   "version": "3.7.7"
  }
 },
 "nbformat": 4,
 "nbformat_minor": 4
}
